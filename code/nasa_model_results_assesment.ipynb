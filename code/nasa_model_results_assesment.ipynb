{
 "cells": [
  {
   "cell_type": "code",
   "execution_count": 32,
   "metadata": {},
   "outputs": [],
   "source": [
    "import pandas as pd"
   ]
  },
  {
   "cell_type": "code",
   "execution_count": 33,
   "metadata": {},
   "outputs": [],
   "source": [
    "# prawdziwy wynik - koi_disposition\n",
    "# wynik modelu - koi_pdisposition\n",
    "# pewność modelu - koi_score\n",
    "df = pd.read_csv('../data/data.csv')\n",
    "# zostaw tylko kolumny powyżej\n",
    "df = df[['koi_disposition', 'koi_pdisposition', 'koi_score']]\n",
    "#zimeń nazwy kolumn na 'label', 'pred', 'score'\n",
    "df.columns = ['label', 'pred', 'score']\n"
   ]
  },
  {
   "cell_type": "code",
   "execution_count": 34,
   "metadata": {},
   "outputs": [
    {
     "data": {
      "text/html": [
       "<div>\n",
       "<style scoped>\n",
       "    .dataframe tbody tr th:only-of-type {\n",
       "        vertical-align: middle;\n",
       "    }\n",
       "\n",
       "    .dataframe tbody tr th {\n",
       "        vertical-align: top;\n",
       "    }\n",
       "\n",
       "    .dataframe thead th {\n",
       "        text-align: right;\n",
       "    }\n",
       "</style>\n",
       "<table border=\"1\" class=\"dataframe\">\n",
       "  <thead>\n",
       "    <tr style=\"text-align: right;\">\n",
       "      <th></th>\n",
       "      <th>label</th>\n",
       "      <th>pred</th>\n",
       "      <th>score</th>\n",
       "    </tr>\n",
       "  </thead>\n",
       "  <tbody>\n",
       "    <tr>\n",
       "      <th>0</th>\n",
       "      <td>CONFIRMED</td>\n",
       "      <td>CANDIDATE</td>\n",
       "      <td>1.000</td>\n",
       "    </tr>\n",
       "    <tr>\n",
       "      <th>1</th>\n",
       "      <td>CONFIRMED</td>\n",
       "      <td>CANDIDATE</td>\n",
       "      <td>0.969</td>\n",
       "    </tr>\n",
       "    <tr>\n",
       "      <th>2</th>\n",
       "      <td>CANDIDATE</td>\n",
       "      <td>CANDIDATE</td>\n",
       "      <td>0.000</td>\n",
       "    </tr>\n",
       "    <tr>\n",
       "      <th>3</th>\n",
       "      <td>FALSE POSITIVE</td>\n",
       "      <td>FALSE POSITIVE</td>\n",
       "      <td>0.000</td>\n",
       "    </tr>\n",
       "    <tr>\n",
       "      <th>4</th>\n",
       "      <td>CONFIRMED</td>\n",
       "      <td>CANDIDATE</td>\n",
       "      <td>1.000</td>\n",
       "    </tr>\n",
       "  </tbody>\n",
       "</table>\n",
       "</div>"
      ],
      "text/plain": [
       "            label            pred  score\n",
       "0       CONFIRMED       CANDIDATE  1.000\n",
       "1       CONFIRMED       CANDIDATE  0.969\n",
       "2       CANDIDATE       CANDIDATE  0.000\n",
       "3  FALSE POSITIVE  FALSE POSITIVE  0.000\n",
       "4       CONFIRMED       CANDIDATE  1.000"
      ]
     },
     "execution_count": 34,
     "metadata": {},
     "output_type": "execute_result"
    }
   ],
   "source": [
    "df.head()"
   ]
  },
  {
   "cell_type": "code",
   "execution_count": 35,
   "metadata": {},
   "outputs": [
    {
     "data": {
      "text/html": [
       "<div>\n",
       "<style scoped>\n",
       "    .dataframe tbody tr th:only-of-type {\n",
       "        vertical-align: middle;\n",
       "    }\n",
       "\n",
       "    .dataframe tbody tr th {\n",
       "        vertical-align: top;\n",
       "    }\n",
       "\n",
       "    .dataframe thead th {\n",
       "        text-align: right;\n",
       "    }\n",
       "</style>\n",
       "<table border=\"1\" class=\"dataframe\">\n",
       "  <thead>\n",
       "    <tr style=\"text-align: right;\">\n",
       "      <th></th>\n",
       "      <th>label</th>\n",
       "      <th>pred</th>\n",
       "      <th>score</th>\n",
       "    </tr>\n",
       "  </thead>\n",
       "  <tbody>\n",
       "    <tr>\n",
       "      <th>0</th>\n",
       "      <td>1.0</td>\n",
       "      <td>0.5</td>\n",
       "      <td>1.000</td>\n",
       "    </tr>\n",
       "    <tr>\n",
       "      <th>1</th>\n",
       "      <td>1.0</td>\n",
       "      <td>0.5</td>\n",
       "      <td>0.969</td>\n",
       "    </tr>\n",
       "    <tr>\n",
       "      <th>2</th>\n",
       "      <td>0.5</td>\n",
       "      <td>0.5</td>\n",
       "      <td>0.000</td>\n",
       "    </tr>\n",
       "    <tr>\n",
       "      <th>3</th>\n",
       "      <td>0.0</td>\n",
       "      <td>0.0</td>\n",
       "      <td>0.000</td>\n",
       "    </tr>\n",
       "    <tr>\n",
       "      <th>4</th>\n",
       "      <td>1.0</td>\n",
       "      <td>0.5</td>\n",
       "      <td>1.000</td>\n",
       "    </tr>\n",
       "  </tbody>\n",
       "</table>\n",
       "</div>"
      ],
      "text/plain": [
       "   label  pred  score\n",
       "0    1.0   0.5  1.000\n",
       "1    1.0   0.5  0.969\n",
       "2    0.5   0.5  0.000\n",
       "3    0.0   0.0  0.000\n",
       "4    1.0   0.5  1.000"
      ]
     },
     "execution_count": 35,
     "metadata": {},
     "output_type": "execute_result"
    }
   ],
   "source": [
    "#encode making false positive values 0, confirmed 1, and candidate 0.5\n",
    "df['label'] = df['label'].map({'FALSE POSITIVE': 0, 'CONFIRMED': 1, 'CANDIDATE': 0.5})\n",
    "df['pred'] = df['pred'].map({'FALSE POSITIVE': 0, 'CONFIRMED': 1, 'CANDIDATE': 0.5})\n",
    "df.head()"
   ]
  },
  {
   "cell_type": "code",
   "execution_count": 36,
   "metadata": {},
   "outputs": [
    {
     "name": "stdout",
     "output_type": "stream",
     "text": [
      "label  pred\n",
      "0.0    0.0     4838\n",
      "       0.5        1\n",
      "0.5    0.5     1982\n",
      "1.0    0.0        9\n",
      "       0.5     2734\n",
      "dtype: int64\n",
      "Empty DataFrame\n",
      "Columns: [label, pred, score]\n",
      "Index: []\n"
     ]
    }
   ],
   "source": [
    "#for each combination of label and pred, print the number of occurences\n",
    "print(df.groupby(['label', 'pred']).size())\n",
    "\n",
    "#print all occurcences where pred is 0.5 and label is not 0.5 and not 0.0\n",
    "print(df[(df['pred'] == 0.5) & (df['label'] != 0.5) & (df['label'] != 0) & (df['label'] != 1)])"
   ]
  },
  {
   "cell_type": "code",
   "execution_count": 37,
   "metadata": {},
   "outputs": [],
   "source": [
    "#remove all rows where label is 0.5 because nasa has not confirmed these\n",
    "df = df[df['label'] != 0.5]"
   ]
  },
  {
   "cell_type": "code",
   "execution_count": 38,
   "metadata": {},
   "outputs": [],
   "source": [
    "#change encoding of pred from 0.5 to 1 bo model przewidywał tylko candidate\n",
    "df['pred'] = df['pred'].map({0: 0, 1: 1, 0.5: 1})"
   ]
  },
  {
   "cell_type": "code",
   "execution_count": 39,
   "metadata": {},
   "outputs": [
    {
     "data": {
      "text/html": [
       "<div>\n",
       "<style scoped>\n",
       "    .dataframe tbody tr th:only-of-type {\n",
       "        vertical-align: middle;\n",
       "    }\n",
       "\n",
       "    .dataframe tbody tr th {\n",
       "        vertical-align: top;\n",
       "    }\n",
       "\n",
       "    .dataframe thead th {\n",
       "        text-align: right;\n",
       "    }\n",
       "</style>\n",
       "<table border=\"1\" class=\"dataframe\">\n",
       "  <thead>\n",
       "    <tr style=\"text-align: right;\">\n",
       "      <th></th>\n",
       "      <th>label</th>\n",
       "      <th>pred</th>\n",
       "      <th>score</th>\n",
       "    </tr>\n",
       "  </thead>\n",
       "  <tbody>\n",
       "    <tr>\n",
       "      <th>0</th>\n",
       "      <td>1.0</td>\n",
       "      <td>1</td>\n",
       "      <td>1.000</td>\n",
       "    </tr>\n",
       "    <tr>\n",
       "      <th>1</th>\n",
       "      <td>1.0</td>\n",
       "      <td>1</td>\n",
       "      <td>0.969</td>\n",
       "    </tr>\n",
       "    <tr>\n",
       "      <th>3</th>\n",
       "      <td>0.0</td>\n",
       "      <td>0</td>\n",
       "      <td>0.000</td>\n",
       "    </tr>\n",
       "    <tr>\n",
       "      <th>4</th>\n",
       "      <td>1.0</td>\n",
       "      <td>1</td>\n",
       "      <td>1.000</td>\n",
       "    </tr>\n",
       "    <tr>\n",
       "      <th>5</th>\n",
       "      <td>1.0</td>\n",
       "      <td>1</td>\n",
       "      <td>1.000</td>\n",
       "    </tr>\n",
       "  </tbody>\n",
       "</table>\n",
       "</div>"
      ],
      "text/plain": [
       "   label  pred  score\n",
       "0    1.0     1  1.000\n",
       "1    1.0     1  0.969\n",
       "3    0.0     0  0.000\n",
       "4    1.0     1  1.000\n",
       "5    1.0     1  1.000"
      ]
     },
     "execution_count": 39,
     "metadata": {},
     "output_type": "execute_result"
    }
   ],
   "source": [
    "df.head()"
   ]
  },
  {
   "cell_type": "code",
   "execution_count": 40,
   "metadata": {},
   "outputs": [
    {
     "name": "stdout",
     "output_type": "stream",
     "text": [
      "2734 4838 1 9\n"
     ]
    }
   ],
   "source": [
    "#check how many true positives, true negatives, false positives and false negatives there are\n",
    "tp = len(df[(df['label'] == 1) & (df['pred'] == 1)])\n",
    "tn = len(df[(df['label'] == 0) & (df['pred'] == 0)])\n",
    "fp = len(df[(df['label'] == 0) & (df['pred'] == 1)])\n",
    "fn = len(df[(df['label'] == 1) & (df['pred'] == 0)])\n",
    "print(tp, tn, fp, fn)"
   ]
  },
  {
   "cell_type": "code",
   "execution_count": 41,
   "metadata": {},
   "outputs": [
    {
     "name": "stdout",
     "output_type": "stream",
     "text": [
      "      label  pred  score\n",
      "274     1.0     0  0.920\n",
      "519     1.0     0  1.000\n",
      "778     1.0     0  0.041\n",
      "953     1.0     0  0.920\n",
      "2210    1.0     0    NaN\n",
      "2767    1.0     0  0.973\n",
      "3043    1.0     0  0.374\n",
      "3385    1.0     0  0.999\n",
      "7632    1.0     0    NaN\n",
      "      label  pred  score\n",
      "2244    0.0     1    1.0\n"
     ]
    }
   ],
   "source": [
    "#check if there is any row where pred is 0 and label is 1\n",
    "print(df[(df['pred'] == 0) & (df['label'] == 1)])\n",
    "#check if there is any row where pred is 1 and label is 0\n",
    "print(df[(df['pred'] == 1) & (df['label'] == 0)])"
   ]
  },
  {
   "cell_type": "code",
   "execution_count": 42,
   "metadata": {},
   "outputs": [
    {
     "name": "stdout",
     "output_type": "stream",
     "text": [
      "Recall:  0.996718920889537\n"
     ]
    }
   ],
   "source": [
    "#check accuracy of nasa model\n",
    "print(\"Recall: \", tp / (tp + fn))"
   ]
  }
 ],
 "metadata": {
  "kernelspec": {
   "display_name": "bhl",
   "language": "python",
   "name": "python3"
  },
  "language_info": {
   "codemirror_mode": {
    "name": "ipython",
    "version": 3
   },
   "file_extension": ".py",
   "mimetype": "text/x-python",
   "name": "python",
   "nbconvert_exporter": "python",
   "pygments_lexer": "ipython3",
   "version": "3.11.10"
  }
 },
 "nbformat": 4,
 "nbformat_minor": 2
}
