{
 "cells": [
  {
   "cell_type": "code",
   "execution_count": 2,
   "metadata": {},
   "outputs": [],
   "source": [
    "import pandas as pd"
   ]
  },
  {
   "cell_type": "code",
   "execution_count": 5,
   "metadata": {},
   "outputs": [],
   "source": [
    "d = pd.read_csv(\"../data/data.csv\")"
   ]
  },
  {
   "cell_type": "code",
   "execution_count": 6,
   "metadata": {},
   "outputs": [
    {
     "data": {
      "text/plain": [
       "Index(['rowid', 'kepid', 'kepoi_name', 'kepler_name', 'koi_disposition',\n",
       "       'koi_vet_stat', 'koi_vet_date', 'koi_pdisposition', 'koi_score',\n",
       "       'koi_fpflag_nt', 'koi_fpflag_ss', 'koi_fpflag_co', 'koi_fpflag_ec',\n",
       "       'koi_disp_prov', 'koi_comment', 'koi_period', 'koi_time0bk',\n",
       "       'koi_time0', 'koi_eccen', 'koi_longp', 'koi_impact', 'koi_duration',\n",
       "       'koi_ingress', 'koi_depth', 'koi_ror', 'koi_srho', 'koi_fittype',\n",
       "       'koi_prad', 'koi_sma', 'koi_incl', 'koi_teq', 'koi_insol', 'koi_dor',\n",
       "       'koi_limbdark_mod', 'koi_ldm_coeff4', 'koi_ldm_coeff3',\n",
       "       'koi_ldm_coeff2', 'koi_ldm_coeff1', 'koi_parm_prov', 'koi_max_sngle_ev',\n",
       "       'koi_max_mult_ev', 'koi_model_snr', 'koi_count', 'koi_num_transits',\n",
       "       'koi_tce_plnt_num', 'koi_tce_delivname', 'koi_quarters',\n",
       "       'koi_bin_oedp_sig', 'koi_trans_mod', 'koi_model_dof', 'koi_model_chisq',\n",
       "       'koi_datalink_dvr', 'koi_datalink_dvs', 'koi_steff', 'koi_slogg',\n",
       "       'koi_smet', 'koi_srad', 'koi_smass', 'koi_sage', 'koi_sparprov', 'ra',\n",
       "       'dec', 'koi_kepmag', 'koi_gmag', 'koi_rmag', 'koi_imag', 'koi_zmag',\n",
       "       'koi_jmag', 'koi_hmag', 'koi_kmag', 'koi_fwm_stat_sig', 'koi_fwm_sra',\n",
       "       'koi_fwm_sdec', 'koi_fwm_srao', 'koi_fwm_sdeco', 'koi_fwm_prao',\n",
       "       'koi_fwm_pdeco', 'koi_dicco_mra', 'koi_dicco_mdec', 'koi_dicco_msky',\n",
       "       'koi_dikco_mra', 'koi_dikco_mdec', 'koi_dikco_msky'],\n",
       "      dtype='object')"
      ]
     },
     "execution_count": 6,
     "metadata": {},
     "output_type": "execute_result"
    }
   ],
   "source": [
    "d.columns"
   ]
  },
  {
   "cell_type": "markdown",
   "metadata": {},
   "source": [
    " COLUMN kepid:          KepID  \n",
    " COLUMN kepoi_name:     KOI Name  \n",
    " COLUMN kepler_name:    Kepler Name  \n",
    " COLUMN koi_disposition: Exoplanet Archive Disposition  \n",
    " COLUMN koi_vet_stat:   Vetting Status  \n",
    " COLUMN koi_vet_date:   Date of Last Parameter Update   \n",
    " COLUMN koi_pdisposition: Disposition Using Kepler Data  \n",
    " COLUMN koi_score:      Disposition Score  \n",
    " COLUMN koi_fpflag_nt:  Not Transit-Like False Positive Flag  \n",
    " COLUMN koi_fpflag_ss:  Stellar Eclipse False Positive Flag  \n",
    " COLUMN koi_fpflag_co:  Centroid Offset False Positive Flag  \n",
    " COLUMN koi_fpflag_ec:  Ephemeris Match Indicates Contamination False Positive Flag  \n",
    " COLUMN koi_disp_prov:  Disposition Provenance  \n",
    " COLUMN koi_comment:    Comment  \n",
    " COLUMN koi_period:     Orbital Period [days]  \n",
    " COLUMN koi_time0bk:    Transit Epoch [BKJD]  \n",
    " COLUMN koi_time0:      Transit Epoch [BJD]  \n",
    " COLUMN koi_eccen:      Eccentricity  \n",
    " COLUMN koi_longp:      Long. of Periastron [deg]  \n",
    " COLUMN koi_impact:     Impact Parameter  \n",
    " COLUMN koi_duration:   Transit Duration [hrs]  \n",
    " COLUMN koi_ingress:    Ingress Duration [hrs]  \n",
    " COLUMN koi_depth:      Transit Depth [ppm]  \n",
    " COLUMN koi_ror:        Planet-Star Radius Ratio  \n",
    " COLUMN koi_srho:       Fitted Stellar Density [g/cm**3]  \n",
    " COLUMN koi_fittype:    Planetary Fit Type  \n",
    " COLUMN koi_prad:       Planetary Radius [Earth radii]  \n",
    " COLUMN koi_sma:        Orbit Semi-Major Axis [au]  \n",
    " COLUMN koi_incl:       Inclination [deg]  \n",
    " COLUMN koi_teq:        Equilibrium Temperature [K]  \n",
    " COLUMN koi_insol:      Insolation Flux [Earth flux]  \n",
    " COLUMN koi_dor:        Planet-Star Distance over Star Radius  \n",
    " COLUMN koi_limbdark_mod: Limb Darkening Model  \n",
    " COLUMN koi_ldm_coeff4: Limb Darkening Coeff. 4  \n",
    " COLUMN koi_ldm_coeff3: Limb Darkening Coeff. 3  \n",
    " COLUMN koi_ldm_coeff2: Limb Darkening Coeff. 2  \n",
    " COLUMN koi_ldm_coeff1: Limb Darkening Coeff. 1  \n",
    " COLUMN koi_parm_prov:  Parameters Provenance  \n",
    " COLUMN koi_max_sngle_ev: Maximum Single Event Statistic  \n",
    " COLUMN koi_max_mult_ev: Maximum Multiple Event Statistic  \n",
    " COLUMN koi_model_snr:  Transit Signal-to-Noise  \n",
    " COLUMN koi_count:      Number of Planets  \n",
    " COLUMN koi_num_transits: Number of Transits  \n",
    " COLUMN koi_tce_plnt_num: TCE Planet Number  \n",
    " COLUMN koi_tce_delivname: TCE Delivery  \n",
    " COLUMN koi_quarters:   Quarters  \n",
    " COLUMN koi_bin_oedp_sig: Odd-Even Depth Comparision Statistic  \n",
    " COLUMN koi_trans_mod:  Transit Model  \n",
    " COLUMN koi_model_dof:  Degrees of Freedom  \n",
    " COLUMN koi_model_chisq: Chi-Square  \n",
    " COLUMN koi_datalink_dvr: Link to DV Report  \n",
    " COLUMN koi_datalink_dvs: Link to DV Summary  \n",
    " COLUMN koi_steff:      Stellar Effective Temperature [K]  \n",
    " COLUMN koi_slogg:      Stellar Surface Gravity [log10(cm/s**2)]  \n",
    " COLUMN koi_smet:       Stellar Metallicity [dex]  \n",
    " COLUMN koi_srad:       Stellar Radius [Solar radii]  \n",
    " COLUMN koi_smass:      Stellar Mass [Solar mass]  \n",
    " COLUMN koi_sage:       Stellar Age [Gyr]  \n",
    " COLUMN koi_sparprov:   Stellar Parameter Provenance  \n",
    " COLUMN ra:             RA [decimal degrees]  \n",
    " COLUMN dec:            Dec [decimal degrees]  \n",
    " COLUMN koi_kepmag:     Kepler-band [mag]  \n",
    " COLUMN koi_gmag:       g'-band [mag]  \n",
    " COLUMN koi_rmag:       r'-band [mag]  \n",
    " COLUMN koi_imag:       i'-band [mag]  \n",
    " COLUMN koi_zmag:       z'-band [mag]  \n",
    " COLUMN koi_jmag:       J-band [mag]  \n",
    " COLUMN koi_hmag:       H-band [mag]  \n",
    " COLUMN koi_kmag:       K-band [mag]  \n",
    " COLUMN koi_fwm_stat_sig: FW Offset Significance [percent]  \n",
    " COLUMN koi_fwm_sra:    FW Source &alpha;(OOT) [hrs]  \n",
    " COLUMN koi_fwm_sdec:   FW Source &delta;(OOT) [deg]  \n",
    " COLUMN koi_fwm_srao:   FW Source &Delta;&alpha;(OOT) [sec]  \n",
    " COLUMN koi_fwm_sdeco:  FW Source &Delta;&delta;(OOT) [arcsec]  \n",
    " COLUMN koi_fwm_prao:   FW &Delta;&alpha;(OOT) [sec]  \n",
    " COLUMN koi_fwm_pdeco:  FW &Delta;&delta;(OOT) [arcsec]  \n",
    " COLUMN koi_dicco_mra:  PRF &Delta;&alpha;<sub>SQ</sub>(OOT) [arcsec]  \n",
    " COLUMN koi_dicco_mdec: PRF &Delta;&delta;<sub>SQ</sub>(OOT) [arcsec]  \n",
    " COLUMN koi_dicco_msky: PRF &Delta;&theta;<sub>SQ</sub>(OOT) []arcsec  \n",
    " COLUMN koi_dikco_mra:  PRF &Delta;&alpha;<sub>SQ</sub>(KIC) [arcsec]  \n",
    " COLUMN koi_dikco_mdec: PRF &Delta;&delta;<sub>SQ</sub>(KIC) [arcsec]  \n",
    " COLUMN koi_dikco_msky: PRF &Delta;&theta;<sub>SQ</sub>(KIC) [arcsec]  "
   ]
  },
  {
   "cell_type": "code",
   "execution_count": 9,
   "metadata": {},
   "outputs": [],
   "source": [
    "d.drop(columns = ['kepid'\n",
    "                  , 'kepoi_name'\n",
    "                  , 'kepler_name'\n",
    "                  , 'koi_score'\n",
    "                  , 'koi_fpflag_nt'\n",
    "                  , 'koi_fpflag_ss'\n",
    "                  , 'koi_fpflag_co'\n",
    "                  , 'koi_fpflag_ec'\n",
    "                  , 'koi_vet_stat'\n",
    "                  , 'koi_vet_date'\n",
    "                  , 'koi_disp_prov'\n",
    "                  , 'koi_comment'\n",
    "                  , 'koi_parm_prov'\n",
    "                  , 'koi_tce_delivname'\n",
    "                  , 'koi_trans_mod'\n",
    "                  , 'koi_datalink_dvr'\n",
    "                  , 'koi_datalink_dvs'\n",
    "                  , 'koi_sparprov'\n",
    "                  , 'koi_fittype'\n",
    "                  ], inplace=True)"
   ]
  },
  {
   "cell_type": "code",
   "execution_count": 11,
   "metadata": {},
   "outputs": [],
   "source": [
    "d_candidate = d[d['koi_disposition'] == 'CANDIDATE']\n",
    "d = d[d['koi_disposition'] != 'CANDIDATE']\n",
    "d_candidate.to_csv(\"../data/candidate.csv\", index=False)\n",
    "d.to_csv(\"../data/data_clean.csv\", index=False)"
   ]
  },
  {
   "cell_type": "code",
   "execution_count": null,
   "metadata": {},
   "outputs": [],
   "source": []
  }
 ],
 "metadata": {
  "kernelspec": {
   "display_name": "bhl",
   "language": "python",
   "name": "python3"
  },
  "language_info": {
   "codemirror_mode": {
    "name": "ipython",
    "version": 3
   },
   "file_extension": ".py",
   "mimetype": "text/x-python",
   "name": "python",
   "nbconvert_exporter": "python",
   "pygments_lexer": "ipython3",
   "version": "3.11.10"
  }
 },
 "nbformat": 4,
 "nbformat_minor": 2
}
